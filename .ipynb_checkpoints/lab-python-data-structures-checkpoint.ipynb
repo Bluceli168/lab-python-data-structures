{
 "cells": [
  {
   "cell_type": "markdown",
   "metadata": {
    "tags": []
   },
   "source": [
    "# Lab | Data Structures "
   ]
  },
  {
   "cell_type": "markdown",
   "metadata": {},
   "source": [
    "## Exercise: Managing Customer Orders\n",
    "\n",
    "As part of a business venture, you are starting an online store that sells various products. To ensure smooth operations, you need to develop a program that manages customer orders and inventory.\n",
    "\n",
    "Follow the steps below to complete the exercise:\n",
    "\n",
    "1. Define a list called `products` that contains the following items: \"t-shirt\", \"mug\", \"hat\", \"book\", \"keychain\".\n",
    "\n",
    "2. Create an empty dictionary called `inventory`.\n",
    "\n",
    "3. Ask the user to input the quantity of each product available in the inventory. Use the product names from the `products` list as keys in the `inventory` dictionary and assign the respective quantities as values.\n",
    "\n",
    "4. Create an empty set called `customer_orders`.\n",
    "\n",
    "5. Ask the user to input the name of three products that a customer wants to order (from those in the products list, meaning three products out of \"t-shirt\", \"mug\", \"hat\", \"book\" or \"keychain\". Add each product name to the `customer_orders` set.\n",
    "\n",
    "6. Print the products in the `customer_orders` set.\n",
    "\n",
    "7. Calculate the following order statistics:\n",
    "   - Total Products Ordered: The total number of products in the `customer_orders` set.\n",
    "   - Percentage of Products Ordered: The percentage of products ordered compared to the total available products.\n",
    "   \n",
    "   Store these statistics in a tuple called `order_status`.\n",
    "\n",
    "8. Print the order statistics using the following format:\n",
    "   ```\n",
    "   Order Statistics:\n",
    "   Total Products Ordered: <total_products_ordered>\n",
    "   Percentage of Products Ordered: <percentage_ordered>% \n",
    "   ```\n",
    "\n",
    "9. Update the inventory by subtracting 1 from the quantity of each product. Modify the `inventory` dictionary accordingly.\n",
    "\n",
    "10. Print the updated inventory, displaying the quantity of each product on separate lines.\n",
    "\n",
    "Solve the exercise by implementing the steps using the Python concepts of lists, dictionaries, sets, and basic input/output operations. "
   ]
  },
  {
   "cell_type": "code",
   "execution_count": 2,
   "metadata": {},
   "outputs": [
    {
     "name": "stdout",
     "output_type": "stream",
     "text": [
      "pls input available qty for each product in inventory\n"
     ]
    },
    {
     "name": "stdin",
     "output_type": "stream",
     "text": [
      "pls input available qty for 't-shirt': 5\n",
      "pls input available qty for 'mug': 5\n",
      "pls input available qty for 'hat': 5\n",
      "pls input available qty for 'book': 5\n",
      "pls input available qty for 'keychain': 5\n",
      "for yor targeted products,pls input 3 products from:'t-shirt,mug,hat,book,keychain':,and seperate each product by ',' mug,hat,book\n"
     ]
    },
    {
     "name": "stdout",
     "output_type": "stream",
     "text": [
      "{'book', 'mug', 'hat'}\n"
     ]
    },
    {
     "name": "stdin",
     "output_type": "stream",
     "text": [
      "pls input order qty for 'book': 1\n",
      "pls input order qty for 'mug': 1\n",
      "pls input order qty for 'hat': 1\n"
     ]
    },
    {
     "name": "stdout",
     "output_type": "stream",
     "text": [
      "Total Products Ordered: 3\n",
      "Percentage of Products Ordered: 20.00%\n",
      "Below show updated inventory of each product after above orders:\n",
      "t-shirt:5\n",
      "mug:4\n",
      "hat:4\n",
      "book:4\n",
      "keychain:5\n"
     ]
    }
   ],
   "source": [
    "products = [\"t-shirt\", \"mug\", \"hat\", \"book\", \"keychain\"]\n",
    "inventory = {}\n",
    "for item in products:\n",
    "    inventory[item] =0\n",
    "\n",
    "print(\"pls input available qty for each product in inventory\")\n",
    "\n",
    "for key in inventory:\n",
    "    inventory[key] = int(input(f\"pls input available qty for '{key}':\"))\n",
    "\n",
    "customer_orders =set()\n",
    "user_input = input(f\"for yor targeted products,pls input 3 products from:'{','.join(products)}':,and seperate each product by ','\")\n",
    "customer_orders = set(user_input.split(\",\"))\n",
    "print(customer_orders)\n",
    "\n",
    "customer_orders = {item:None for item in customer_orders}\n",
    "for key in customer_orders:\n",
    "    customer_orders[key] = int(input(f\"pls input order qty for '{key}':\"))\n",
    "\n",
    "Total_Products_Ordered = sum(customer_orders.values())\n",
    "print(f\"Total Products Ordered: {Total_Products_Ordered}\")\n",
    "\n",
    "order_product_total_available_qty = sum(inventory[key] for key in customer_orders)\n",
    "\n",
    "Percentage_of_Products_Ordered = (float(Total_Products_Ordered)/float(order_product_total_available_qty))*100 \n",
    "print(f\"Percentage of Products Ordered: {Percentage_of_Products_Ordered:.2f}%\")\n",
    "\n",
    "order_status = (Total_Products_Ordered,Percentage_of_Products_Ordered)\n",
    "\n",
    "for key in customer_orders:\n",
    "    inventory[key]=inventory[key]-1\n",
    "\n",
    "print(\"Below show updated inventory of each product after above orders:\")\n",
    "for key,value in inventory.items():\n",
    "    print(f\"{key}:{value}\")\n"
   ]
  },
  {
   "cell_type": "code",
   "execution_count": null,
   "metadata": {},
   "outputs": [],
   "source": []
  }
 ],
 "metadata": {
  "kernelspec": {
   "display_name": "Python 3 (ipykernel)",
   "language": "python",
   "name": "python3"
  },
  "language_info": {
   "codemirror_mode": {
    "name": "ipython",
    "version": 3
   },
   "file_extension": ".py",
   "mimetype": "text/x-python",
   "name": "python",
   "nbconvert_exporter": "python",
   "pygments_lexer": "ipython3",
   "version": "3.12.4"
  }
 },
 "nbformat": 4,
 "nbformat_minor": 4
}
